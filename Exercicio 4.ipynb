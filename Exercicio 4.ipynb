{
  "nbformat": 4,
  "nbformat_minor": 0,
  "metadata": {
    "colab": {
      "name": "Untitled5.ipynb",
      "provenance": [],
      "authorship_tag": "ABX9TyMHCdP7xwebJ3ZCnUIAzWZz",
      "include_colab_link": true
    },
    "kernelspec": {
      "name": "python3",
      "display_name": "Python 3"
    }
  },
  "cells": [
    {
      "cell_type": "markdown",
      "metadata": {
        "id": "view-in-github",
        "colab_type": "text"
      },
      "source": [
        "<a href=\"https://colab.research.google.com/github/BrunoChalu/Exercicio-python/blob/main/Exercicio%204.ipynb\" target=\"_parent\"><img src=\"https://colab.research.google.com/assets/colab-badge.svg\" alt=\"Open In Colab\"/></a>"
      ]
    },
    {
      "cell_type": "code",
      "metadata": {
        "colab": {
          "base_uri": "https://localhost:8080/"
        },
        "id": "RJ4ZbR5trdbx",
        "outputId": "158b9ae1-938d-47b6-9802-0d9149b394c0"
      },
      "source": [
        "def idade(digite_sua_idade):\n",
        "  digite_sua_idade = int(digite_sua_idade, base=10)\n",
        "  print(digite_sua_idade * 360)\n",
        "idade('35')"
      ],
      "execution_count": 29,
      "outputs": [
        {
          "output_type": "stream",
          "text": [
            "12600\n"
          ],
          "name": "stdout"
        }
      ]
    }
  ]
}