{
  "nbformat": 4,
  "nbformat_minor": 0,
  "metadata": {
    "colab": {
      "name": "Untitled4.ipynb",
      "provenance": [],
      "authorship_tag": "ABX9TyP6Xj5rSsgpACRIV1v9SBAK",
      "include_colab_link": true
    },
    "kernelspec": {
      "name": "python3",
      "display_name": "Python 3"
    }
  },
  "cells": [
    {
      "cell_type": "markdown",
      "metadata": {
        "id": "view-in-github",
        "colab_type": "text"
      },
      "source": [
        "<a href=\"https://colab.research.google.com/github/BrunoChalu/Exercicio-python/blob/main/Exercicio%203.ipynb\" target=\"_parent\"><img src=\"https://colab.research.google.com/assets/colab-badge.svg\" alt=\"Open In Colab\"/></a>"
      ]
    },
    {
      "cell_type": "code",
      "metadata": {
        "colab": {
          "base_uri": "https://localhost:8080/"
        },
        "id": "UAv0qO_4mOor",
        "outputId": "e21ee3a0-6681-4db4-ae21-c734bf9fe9b1"
      },
      "source": [
        "idade = input('Quantos anos você tem?')\n",
        "idade = int(idade, base=10)\n",
        "variavel = (idade * 360)\n",
        "print(variavel)\n"
      ],
      "execution_count": 53,
      "outputs": [
        {
          "output_type": "stream",
          "text": [
            "Quantos anos você tem?60\n",
            "21600\n"
          ],
          "name": "stdout"
        }
      ]
    }
  ]
}