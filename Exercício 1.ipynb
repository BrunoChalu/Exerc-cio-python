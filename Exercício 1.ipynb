{
  "nbformat": 4,
  "nbformat_minor": 0,
  "metadata": {
    "colab": {
      "name": "Copy of Exercício 1.ipynb",
      "provenance": [],
      "authorship_tag": "ABX9TyNAGtK0I0g6sWvINL/yu7XS",
      "include_colab_link": true
    },
    "kernelspec": {
      "name": "python3",
      "display_name": "Python 3"
    }
  },
  "cells": [
    {
      "cell_type": "markdown",
      "metadata": {
        "id": "view-in-github",
        "colab_type": "text"
      },
      "source": [
        "<a href=\"https://colab.research.google.com/github/BrunoChalu/Exercicio-python/blob/main/Copy_of_Exerc%C3%ADcio_1.ipynb\" target=\"_parent\"><img src=\"https://colab.research.google.com/assets/colab-badge.svg\" alt=\"Open In Colab\"/></a>"
      ]
    },
    {
      "cell_type": "code",
      "metadata": {
        "id": "DOJKc0y4Xu1D"
      },
      "source": [
        "lista_respostas = []\n",
        "\n",
        "Resposta = input('Telefonou para a vítima?')\n",
        "Resposta = Resposta.upper()\n",
        "lista_respostas.append(Resposta)\n",
        "\n",
        "Resposta = input('Esteve no local do crime?')\n",
        "Resposta = Resposta.upper()\n",
        "lista_respostas.append(Resposta)\n",
        "\n",
        "Resposta = input('Mora perto da Vítima?')\n",
        "Resposta = Resposta.upper()\n",
        "lista_respostas.append(Resposta)\n",
        "\n",
        "Resposta = input('Devia para a vítima?')\n",
        "Resposta = Resposta.upper()\n",
        "lista_respostas.append(Resposta)\n",
        "\n",
        "Resposta = input('Já trabalhou com a vítima?')\n",
        "Resposta = Resposta.upper()\n",
        "lista_respostas.append(Resposta)\n",
        "\n",
        "quantidade_sim = lista_respostas.count('SIM')\n",
        "if quantidade_sim <= 1:\n",
        "  print('Inocente')\n",
        "\n",
        "elif quantidade_sim == 2:\n",
        "  print('Suspeita')\n",
        "\n",
        "elif quantidade_sim >2<5:\n",
        "  print('Cumplice')\n",
        "\n",
        "elif quantidade_sim > 4:\n",
        "  print('Assassino')\n",
        "\n",
        "\n",
        "\n",
        "\n"
      ],
      "execution_count": null,
      "outputs": []
    }
  ]
}
