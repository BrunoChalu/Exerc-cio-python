{
  "nbformat": 4,
  "nbformat_minor": 0,
  "metadata": {
    "colab": {
      "name": "Untitled6.ipynb",
      "provenance": [],
      "authorship_tag": "ABX9TyMVD/hCYRN4eU+jB3Lwq/3g",
      "include_colab_link": true
    },
    "kernelspec": {
      "name": "python3",
      "display_name": "Python 3"
    }
  },
  "cells": [
    {
      "cell_type": "markdown",
      "metadata": {
        "id": "view-in-github",
        "colab_type": "text"
      },
      "source": [
        "<a href=\"https://colab.research.google.com/github/BrunoChalu/Exercicio-python/blob/main/exercicio%204.ipynb\" target=\"_parent\"><img src=\"https://colab.research.google.com/assets/colab-badge.svg\" alt=\"Open In Colab\"/></a>"
      ]
    },
    {
      "cell_type": "code",
      "metadata": {
        "colab": {
          "base_uri": "https://localhost:8080/",
          "height": 435
        },
        "id": "nR00YYxV2dIn",
        "outputId": "f2b19982-24f8-40e8-9079-78c17c531358"
      },
      "source": [
        "lista = [1.2, 0.9, 7.4, 10.0, 2.75, 5.73, 15.89, 24.7, 9.9, 5.5, 8.2, 12.4, 16.4]\n",
        "def variavel(lista):  \n",
        "  print(lista)\n",
        "variavel(lista)\n",
        "\n",
        "\n",
        "import numpy as np\n",
        "from numpy import random\n",
        "xx = random.rand(13)\n",
        "print(xx)\n",
        "\n",
        "import statistics\n",
        "xxx = statistics.pstdev(xx)\n",
        "print('Desvio Padrão xxx =',(xxx))\n",
        "\n",
        "yyy = statistics.variance(xx)\n",
        "print('Variância yyy =',(yyy))\n",
        "\n",
        "zzz = statistics.mean(xx)\n",
        "print('Média zzz =',(zzz))\n",
        "\n",
        "import matplotlib.pyplot as plt\n",
        "plt.hist(lista, 5, rwidth=0.9)\n",
        "plt.show()\n",
        "\n",
        "x = statistics.pstdev(lista)\n",
        "print('Desvio Padrão =',(x))\n",
        "\n",
        "y = statistics.variance(lista)\n",
        "print('Variância =',(y))\n",
        "\n",
        "z = statistics.mean(lista)\n",
        "print('Média =',(z))\n"
      ],
      "execution_count": 95,
      "outputs": [
        {
          "output_type": "stream",
          "text": [
            "[1.2, 0.9, 7.4, 10.0, 2.75, 5.73, 15.89, 24.7, 9.9, 5.5, 8.2, 12.4, 16.4]\n",
            "[0.92410024 0.83537757 0.05578725 0.10208545 0.68139207 0.91038898\n",
            " 0.30555829 0.16639011 0.61385545 0.41458197 0.64152336 0.99870366\n",
            " 0.26854682]\n",
            "Desvio Padrão xxx = 0.3195586437032057\n",
            "Variância yyy = 0.11062753732921839\n",
            "Média zzz = 0.532176246042247\n"
          ],
          "name": "stdout"
        },
        {
          "output_type": "display_data",
          "data": {
            "image/png": "[encoded data removed]",
            "text/plain": [
              "<Figure size 432x288 with 1 Axes>"
            ]
          },
          "metadata": {
            "tags": [],
            "needs_background": "light"
          }
        },
        {
          "output_type": "stream",
          "text": [
            "Desvio Padrão = 6.51940961860412\n",
            "Variância = 46.04459358974359\n",
            "Média = 9.305384615384614\n"
          ],
          "name": "stdout"
        }
      ]
    }
  ]
}