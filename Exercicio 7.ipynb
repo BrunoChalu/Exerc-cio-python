{
  "nbformat": 4,
  "nbformat_minor": 0,
  "metadata": {
    "colab": {
      "name": "Untitled9.ipynb",
      "provenance": [],
      "authorship_tag": "ABX9TyNSZlKcMpqi2GdvZB/pQkTB",
      "include_colab_link": true
    },
    "kernelspec": {
      "name": "python3",
      "display_name": "Python 3"
    },
    "language_info": {
      "name": "python"
    }
  },
  "cells": [
    {
      "cell_type": "markdown",
      "metadata": {
        "id": "view-in-github",
        "colab_type": "text"
      },
      "source": [
        "<a href=\"https://colab.research.google.com/github/BrunoChalu/Exercicio-python/blob/main/Exercicio%207.ipynb\" target=\"_parent\"><img src=\"https://colab.research.google.com/assets/colab-badge.svg\" alt=\"Open In Colab\"/></a>"
      ]
    },
    {
      "cell_type": "code",
      "metadata": {
        "colab": {
          "base_uri": "https://localhost:8080/"
        },
        "id": "JxxIcHpLLxQ_",
        "outputId": "ebb4b25b-56fa-4724-c3f3-a68b623fcc2d"
      },
      "source": [
        "preco_alcool = 1.90\n",
        "preco_gasolina = 2.50\n",
        "\n",
        "litros = int(input('Quantos litros você quer?'))\n",
        "\n",
        "combustivel = input('Qual combustível você quer?')\n",
        "if combustivel == 'alcool':\n",
        "  if litros <= 20:\n",
        "    print('A = R$',((litros * preco_alcool) * 0.97))\n",
        "  elif litros > 20:\n",
        "    print('A = R$',((litros * preco_alcool) * 0.95))  \n",
        "\n",
        "if combustivel == 'gasolina':\n",
        "  if litros <= 20:\n",
        "    print('G = R$',((litros * preco_gasolina) * 0.96))\n",
        "  elif litros > 20:\n",
        "    print('G = R$',((litros * preco_gasolina) * 0.94))\n",
        "\n",
        "\n",
        "\n"
      ],
      "execution_count": 87,
      "outputs": [
        {
          "output_type": "stream",
          "text": [
            "Quantos litros você quer?45\n",
            "Qual combustível você quer?gasolina\n",
            "G = R$ 105.75\n"
          ],
          "name": "stdout"
        }
      ]
    }
  ]
}