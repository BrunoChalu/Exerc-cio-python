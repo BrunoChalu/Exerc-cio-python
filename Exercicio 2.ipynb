{
  "nbformat": 4,
  "nbformat_minor": 0,
  "metadata": {
    "colab": {
      "name": "Untitled1.ipynb",
      "provenance": [],
      "authorship_tag": "ABX9TyMWk4OTDI4ORAVIZF1sO7D+",
      "include_colab_link": true
    },
    "kernelspec": {
      "name": "python3",
      "display_name": "Python 3"
    }
  },
  "cells": [
    {
      "cell_type": "markdown",
      "metadata": {
        "id": "view-in-github",
        "colab_type": "text"
      },
      "source": [
        "<a href=\"https://colab.research.google.com/github/BrunoChalu/Exercicio-python/blob/main/Exercicio%202.ipynb\" target=\"_parent\"><img src=\"https://colab.research.google.com/assets/colab-badge.svg\" alt=\"Open In Colab\"/></a>"
      ]
    },
    {
      "cell_type": "code",
      "metadata": {
        "colab": {
          "base_uri": "https://localhost:8080/"
        },
        "id": "LPaGCJJnZ6Zu",
        "outputId": "6f95e125-4c4e-4c52-cc64-39a16b89da6b"
      },
      "source": [
        "meses = [\"janeiro\", \"fevereiro\", \"março\", \"abril\", \"maio\", \"junho\", \"julho\", \"agosto\", \"setembro\", \"outubro\", \"novembro\", \"dezembro\"]\n",
        "estados = [\"amazonas\",\"pará\", \"minas gerais\", \"são paulo\", \"rio de janeiro\", \"mato grosso\", \"mato grosso do sul\", \"santa catarina\", \"rio grande do sul\", \"paraíba\", \"bahia\", \"pernambuco\", \"acre\", \"rorraima\", \"rondônia\", \"maranhão\", \"ceará\", \"sergipe\", \"distrito federal\", \"tocantins\", \"piaui\", \"paraná\", \"rio grande do norte\", \"alagoas\", \"amapá\"]\n",
        "\n",
        "repeticao = True\n",
        "while repeticao == True:\n",
        "  nome = input('Qual o seu nome?')\n",
        "  if nome.isnumeric() == True:\n",
        "    print('Ocorreu um erro. Por favor, responda novamente.')\n",
        "  else: repeticao = False\n",
        "\n",
        "repeticao = True\n",
        "while repeticao == True:\n",
        "  estado_nascimento = input('Qual estado você nasceu?')\n",
        "  for x in estados:\n",
        "    if estado_nascimento == x:\n",
        "      repeticao = False\n",
        "  if repeticao == True:\n",
        "    print('Ocorreu um erro. Por favor, responda novamente.')\n",
        "\n",
        "repeticao = True\n",
        "while repeticao == True:\n",
        "  idade = input('Quantos anos você têm?')\n",
        "  if idade.isnumeric() == False:\n",
        "   print('Ocorreu um erro. Por favor, responda novamente.')\n",
        "  else: repeticao = False\n",
        "\n",
        "repeticao = True\n",
        "while repeticao == True:\n",
        "  mes_aniversario = input('Qual o mês do seu aniversário?')\n",
        "  for x in meses:\n",
        "    if mes_aniversario == x:\n",
        "      repeticao = False\n",
        "  if repeticao == True:\n",
        "    print('Ocorreu um erro. Por favor, responda novamente.')\n"
      ],
      "execution_count": 106,
      "outputs": [
        {
          "output_type": "stream",
          "text": [
            "Qual o seu nome?65\n",
            "Ocorreu um erro. Por favor, responda novamente.\n",
            "Qual o seu nome?Bruno\n",
            "Qual estado você nasceu?56\n",
            "Ocorreu um erro. Por favor, responda novamente.\n",
            "Qual estado você nasceu?Bruno\n",
            "Ocorreu um erro. Por favor, responda novamente.\n",
            "Qual estado você nasceu?pará\n",
            "Quantos anos você têm?sete\n",
            "Ocorreu um erro. Por favor, responda novamente.\n",
            "Quantos anos você têm?43\n",
            "Qual o mês do seu aniversário?09\n",
            "Ocorreu um erro. Por favor, responda novamente.\n",
            "Qual o mês do seu aniversário?setembro\n"
          ],
          "name": "stdout"
        }
      ]
    }
  ]
}